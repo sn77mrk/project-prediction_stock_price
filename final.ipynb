# Step 1: Importing the Libraries
import pandas as pd
import numpy as np
import matplotlib.pyplot as plt
from sklearn.preprocessing import MinMaxScaler
from sklearn.model_selection import TimeSeriesSplit
from keras.models import Sequential
from keras.layers import LSTM, Dense, Input
from keras.optimizers import Adam
from keras.callbacks import EarlyStopping
from sklearn.pipeline import Pipeline
from sklearn.base import BaseEstimator, TransformerMixin

# Custom Transformers for Pipeline
class FeatureSelector(BaseEstimator, TransformerMixin):
    def __init__(self, features):
        self.features = features

    def fit(self, X, y=None):
        return self

    def transform(self, X):
        return X[self.features]

class Scaler(BaseEstimator, TransformerMixin):
    def __init__(self, scaler=None):
        self.scaler = scaler if scaler else MinMaxScaler()

    def fit(self, X, y=None):
        self.scaler.fit(X)
        return self

    def transform(self, X):
        return pd.DataFrame(self.scaler.transform(X), columns=X.columns, index=X.index)

# LSTM Model as a Class
class LSTMModel(BaseEstimator):
    def __init__(self, input_shape):
        self.input_shape = input_shape
        self.model = Sequential()
        self.model.add(Input(shape=self.input_shape))
        self.model.add(LSTM(64, activation='relu', return_sequences=True))  # Added complexity
        self.model.add(LSTM(32, activation='relu', return_sequences=False))
        self.model.add(Dense(1))
        self.model.compile(loss='mean_squared_error', optimizer=Adam(learning_rate=0.001))
    
    def fit(self, X, y, **fit_params):
        early_stop = EarlyStopping(monitor='loss', patience=10, restore_best_weights=True)
        self.model.fit(X, y, epochs=300, batch_size=16, verbose=1, shuffle=False, callbacks=[early_stop])  # Adjusted epochs and batch_size
        return self
    
    def predict(self, X):
        return self.model.predict(X)

# Data Loader
class DataLoader:
    def __init__(self, file_path):
        self.file_path = file_path

    def load_data(self):
        df = pd.read_csv(self.file_path, na_values=['null'], index_col='Date', parse_dates=True)
        return df

# Load and preprocess the data
def preprocess_data(file_path, features, feature_scaler=None, target_scaler=None):
    data_loader = DataLoader(file_path)
    df = data_loader.load_data()
    df = df.dropna()  # Ensure no NaN values
    df = df.replace([np.inf, -np.inf], np.nan).dropna()  # Remove infinities
    
    # Ensure the target variable is aligned with the cleaned DataFrame
    output_var = df['Adj Close']
    
    pipeline = Pipeline([
        ('feature_selector', FeatureSelector(features=features)),
        ('scaler', Scaler(scaler=feature_scaler))
    ])
    feature_transform = pipeline.fit_transform(df)
    
    # Scale the target variable
    if target_scaler is None:
        target_scaler = MinMaxScaler()
        output_var_scaled = target_scaler.fit_transform(output_var.values.reshape(-1, 1))
    else:
        output_var_scaled = target_scaler.transform(output_var.values.reshape(-1, 1))
    
    output_var = pd.Series(output_var_scaled.flatten(), index=df.index)
    
    return feature_transform, output_var, df, pipeline.named_steps['scaler'].scaler, target_scaler

# Main Code
msft_file_path = '/Users/sn_mrk/PycharmProjects/predictionPrice /.venv/MSFT.csv'
gujgas_file_path = '/Users/sn_mrk/PycharmProjects/predictionPrice /.venv/GUJGASLTD.NS.csv'
reliance_file_path = '/Users/sn_mrk/PycharmProjects/predictionPrice /.venv/RELIANCE.NS.csv'
fourth_file_path = '/Users/sn_mrk/PycharmProjects/predictionPrice /.venv/ADANIGREEN.NS.csv'  # Path to the fourth dataset
features = ['Open', 'High', 'Low', 'Volume']

# Part 1: Train on MSFT
X_msft, y_msft, df_msft, msft_feature_scaler, msft_target_scaler = preprocess_data(msft_file_path, features)

# Split the MSFT data
timesplit = TimeSeriesSplit(n_splits=10)
for train_index, test_index in timesplit.split(X_msft):
    X_train, X_test = X_msft.iloc[train_index], X_msft.iloc[test_index]
    y_train, y_test = y_msft.iloc[train_index], y_msft.iloc[test_index]

# Reshaping for LSTM
X_train = X_train.values.reshape(X_train.shape[0], 1, X_train.shape[1])
X_test = X_test.values.reshape(X_test.shape[0], 1, X_test.shape[1])

# Building and Training the LSTM Model
lstm_model = LSTMModel(input_shape=(1, X_train.shape[2]))
lstm_model.fit(X_train, y_train)

# Making the LSTM Prediction on MSFT
y_pred_msft = lstm_model.predict(X_test)

# Plotting the MSFT Predictions
plt.figure(figsize=(10, 5))
plt.plot(y_test.index, y_test, label='True Value')
plt.plot(y_test.index, y_pred_msft, label='Predicted Value', color='red')
plt.title("MSFT Prediction by LSTM")
plt.xlabel('Date')
plt.ylabel('Scaled USD')
plt.legend()
plt.show()

# Part 2: Test on GUJGASLTD.NS
X_gujgas, y_gujgas, df_gujgas, _, _ = preprocess_data(gujgas_file_path, features, feature_scaler=msft_feature_scaler, target_scaler=msft_target_scaler)
X_gujgas_reshaped = X_gujgas.values.reshape(X_gujgas.shape[0], 1, X_gujgas.shape[1])
y_pred_gujgas = lstm_model.predict(X_gujgas_reshaped)
y_pred_gujgas = msft_target_scaler.inverse_transform(y_pred_gujgas)
y_true_gujgas = msft_target_scaler.inverse_transform(y_gujgas.values.reshape(-1, 1))

plt.figure(figsize=(10, 5))
plt.plot(y_gujgas.index, y_true_gujgas, label='True Value')
plt.plot(y_gujgas.index, y_pred_gujgas, label='Predicted Value', color='red')
plt.title("GUJGASLTD.NS Prediction by LSTM")
plt.xlabel('Date')
plt.ylabel('INR')
plt.legend()
plt.show()

# Part 3: Test on RELIANCE.NS
X_reliance, y_reliance, df_reliance, _, _ = preprocess_data(reliance_file_path, features, feature_scaler=msft_feature_scaler, target_scaler=msft_target_scaler)
X_reliance_reshaped = X_reliance.values.reshape(X_reliance.shape[0], 1, X_reliance.shape[1])
y_pred_reliance = lstm_model.predict(X_reliance_reshaped)
y_pred_reliance = msft_target_scaler.inverse_transform(y_pred_reliance)
y_true_reliance = msft_target_scaler.inverse_transform(y_reliance.values.reshape(-1, 1))

plt.figure(figsize=(10, 5))
plt.plot(y_reliance.index, y_true_reliance, label='True Value')
plt.plot(y_reliance.index, y_pred_reliance, label='Predicted Value', color='red')
plt.title("RELIANCE.NS Prediction by LSTM")
plt.xlabel('Date')
plt.ylabel('INR')
plt.legend()
plt.show()

# Part 4: Train on GUJGASLTD.NS
X_gujgas, y_gujgas, df_gujgas, gujgas_feature_scaler, gujgas_target_scaler = preprocess_data(gujgas_file_path, features)

# Split the GUJGASLTD.NS data
timesplit = TimeSeriesSplit(n_splits=10)
for train_index, test_index in timesplit.split(X_gujgas):
    X_train, X_test = X_gujgas.iloc[train_index], X_gujgas.iloc[test_index]
    y_train, y_test = y_gujgas.iloc[train_index], y_gujgas.iloc[test_index]

# Reshaping for LSTM
X_train = X_train.values.reshape(X_train.shape[0], 1, X_train.shape[1])
X_test = X_test.values.reshape(X_test.shape[0], 1, X_test.shape[1])

# Building and Training the LSTM Model on GUJGASLTD.NS data
lstm_model = LSTMModel(input_shape=(1, X_train.shape[2]))
lstm_model.fit(X_train, y_train)

# Part 5: Test on RELIANCE.NS
X_reliance, y_reliance, df_reliance, _, _ = preprocess_data(reliance_file_path, features, feature_scaler=gujgas_feature_scaler, target_scaler=gujgas_target_scaler)
X_reliance_reshaped = X_reliance.values.reshape(X_reliance.shape[0], 1, X_reliance.shape[1])
y_pred_reliance = lstm_model.predict(X_reliance_reshaped)
y_pred_reliance = gujgas_target_scaler.inverse_transform(y_pred_reliance)
y_true_reliance = gujgas_target_scaler.inverse_transform(y_reliance.values.reshape(-1, 1))

plt.figure(figsize=(10, 5))
plt.plot(y_reliance.index, y_true_reliance, label='True Value')
plt.plot(y_reliance.index, y_pred_reliance, label='Predicted Value', color='red')
plt.title("RELIANCE.NS Prediction by LSTM after re-training on GUJGASLTD.NS")
plt.xlabel('Date')
plt.ylabel('INR')
plt.legend()
plt.show()

# Part 6: Train on RELIANCE.NS
X_reliance, y_reliance, df_reliance, reliance_feature_scaler, reliance_target_scaler = preprocess_data(reliance_file_path, features)

# Split the RELIANCE.NS data
timesplit = TimeSeriesSplit(n_splits=10)
for train_index, test_index in timesplit.split(X_reliance):
    X_train, X_test = X_reliance.iloc[train_index], X_reliance.iloc[test_index]
    y_train, y_test = y_reliance.iloc[train_index], y_reliance.iloc[test_index]

# Reshaping for LSTM
X_train = X_train.values.reshape(X_train.shape[0], 1, X_train.shape[1])
X_test = X_test.values.reshape(X_test.shape[0], 1, X_test.shape[1])

# Building and Training the LSTM Model on RELIANCE.NS data
lstm_model = LSTMModel(input_shape=(1, X_train.shape[2]))
lstm_model.fit(X_train, y_train)

# Part 7: Test on ADANIGREEN.NS
X_fourth, y_fourth, df_fourth, _, _ = preprocess_data(fourth_file_path, features, feature_scaler=reliance_feature_scaler, target_scaler=reliance_target_scaler)
X_fourth_reshaped = X_fourth.values.reshape(X_fourth.shape[0], 1, X_fourth.shape[1])
y_pred_fourth = lstm_model.predict(X_fourth_reshaped)
y_pred_fourth = reliance_target_scaler.inverse_transform(y_pred_fourth)
y_true_fourth = reliance_target_scaler.inverse_transform(y_fourth.values.reshape(-1, 1))

plt.figure(figsize=(10, 5))
plt.plot(y_fourth.index, y_true_fourth, label='True Value')
plt.plot(y_fourth.index, y_pred_fourth, label='Predicted Value', color='red')
plt.title("ADANIGREEN.NS Prediction by LSTM after re-training on RELIANCE.NS")
plt.xlabel('Date')
plt.ylabel('INR')
plt.legend()
plt.show()
